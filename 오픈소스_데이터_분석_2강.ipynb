{
  "cells": [
    {
      "cell_type": "markdown",
      "metadata": {
        "id": "view-in-github",
        "colab_type": "text"
      },
      "source": [
        "<a href=\"https://colab.research.google.com/github/akatwinkle/bab_bab/blob/main/%EC%98%A4%ED%94%88%EC%86%8C%EC%8A%A4_%EB%8D%B0%EC%9D%B4%ED%84%B0_%EB%B6%84%EC%84%9D_2%EA%B0%95.ipynb\" target=\"_parent\"><img src=\"https://colab.research.google.com/assets/colab-badge.svg\" alt=\"Open In Colab\"/></a>"
      ]
    },
    {
      "cell_type": "markdown",
      "metadata": {
        "id": "DkPKaAsoRq5Q"
      },
      "source": [
        "\n",
        "\n",
        "# 오픈소스 기반 데이터 분석 2강 - 데이터 분석을 위한 파이썬 1\n"
      ]
    },
    {
      "cell_type": "markdown",
      "metadata": {
        "id": "-I7BVVlnRrB0"
      },
      "source": [
        "## 2-1 리스트 슬라이싱"
      ]
    },
    {
      "cell_type": "code",
      "execution_count": 1,
      "metadata": {
        "id": "2Y2HEiaiRwAI",
        "outputId": "6159432c-5d46-462b-85e3-607aa1834536",
        "colab": {
          "base_uri": "https://localhost:8080/"
        }
      },
      "outputs": [
        {
          "output_type": "stream",
          "name": "stdout",
          "text": [
            "[10, 20, 30, 40]\n",
            "[50, 60, 70]\n"
          ]
        }
      ],
      "source": [
        "numbers = [10, 20, 30, 40, 50, 60, 70]\n",
        "# 첫 4개의 원소 출력\n",
        "first_four = numbers[0:4]\n",
        "print(first_four)\n",
        "\n",
        "# 뒤 3개의 원소를 출력\n",
        "last_three = numbers[-3:]\n",
        "print(last_three)"
      ]
    },
    {
      "cell_type": "code",
      "execution_count": 2,
      "metadata": {
        "id": "IO8bsKekR0W_",
        "outputId": "707813da-62fe-463f-bacd-6a89f21414a7",
        "colab": {
          "base_uri": "https://localhost:8080/"
        }
      },
      "outputs": [
        {
          "output_type": "stream",
          "name": "stdout",
          "text": [
            "[10, 30, 50, 70]\n",
            "[70, 60, 50, 40, 30, 20, 10]\n"
          ]
        }
      ],
      "source": [
        "numbers = [10, 20, 30, 40, 50, 60, 70]\n",
        "\n",
        "# 홀수번째 항목 출력\n",
        "every_other_list = numbers[::2]\n",
        "print(every_other_list)\n",
        "\n",
        "# 역순 출력\n",
        "reverse_list = numbers[::-1]\n",
        "print(reverse_list)"
      ]
    },
    {
      "cell_type": "code",
      "execution_count": 3,
      "metadata": {
        "id": "60qOf7uxVdAg",
        "outputId": "134efb66-4bda-465d-e20f-d14abcbaa35e",
        "colab": {
          "base_uri": "https://localhost:8080/"
        }
      },
      "outputs": [
        {
          "output_type": "stream",
          "name": "stdout",
          "text": [
            "[[1, 2, 3, 4], [5, 6, 7, 8]]\n",
            "[[1, 2], [5, 6], [9, 10], [13, 14]]\n"
          ]
        }
      ],
      "source": [
        "matrix = [\n",
        "    [1, 2, 3, 4],\n",
        "    [5, 6, 7, 8],\n",
        "    [9, 10, 11, 12],\n",
        "    [13, 14, 15, 16]\n",
        "]\n",
        "\n",
        "# 첫 두 행 출력\n",
        "first_two_rows = matrix[0:2]\n",
        "print(first_two_rows)\n",
        "\n",
        "# 첫 두 열 출력\n",
        "first_two_columns = [row[0:2] for row in matrix]\n",
        "print(first_two_columns)"
      ]
    },
    {
      "cell_type": "markdown",
      "metadata": {
        "id": "eOMufu5SXiAU"
      },
      "source": [
        "## 2-2 리스트 컴프리헨션"
      ]
    },
    {
      "cell_type": "code",
      "execution_count": 5,
      "metadata": {
        "id": "JpmgdsW9V0CY",
        "outputId": "ae0483ef-8067-4ed9-a1aa-56841d3bff1f",
        "colab": {
          "base_uri": "https://localhost:8080/"
        }
      },
      "outputs": [
        {
          "output_type": "stream",
          "name": "stdout",
          "text": [
            "[0, 1, 2, 3, 4]\n",
            "[0, 1, 2, 3, 4]\n"
          ]
        }
      ],
      "source": [
        "numbers = [ ]\n",
        "\n",
        "# 1 ~ 5 포함 리스트 생성\n",
        "for i in range(5):\n",
        "    numbers.append(i)\n",
        "print(numbers)\n",
        "\n",
        "# 컴프리헨션\n",
        "number = [num for num in range(5)]\n",
        "print(number)\n"
      ]
    },
    {
      "cell_type": "code",
      "execution_count": 9,
      "metadata": {
        "id": "cRC8x3_iW0im",
        "outputId": "b204b6ee-7722-4c8d-ce97-4d6a80074fb6",
        "colab": {
          "base_uri": "https://localhost:8080/"
        }
      },
      "outputs": [
        {
          "output_type": "stream",
          "name": "stdout",
          "text": [
            "[1, 4, 9, 16, 25]\n",
            "[1, 4, 9, 16, 25]\n"
          ]
        }
      ],
      "source": [
        "numbers = [1, 2, 3, 4, 5]\n",
        "squares = [ ]\n",
        "\n",
        "# numbers의 모든 항목의 값을 제곱한 리스트\n",
        "for num in numbers:\n",
        "  squares.append(num ** 2)\n",
        "print(squares)\n",
        "\n",
        "# 컴프리헨션\n",
        "squares2 = [i ** 2 for i in numbers]\n",
        "print(squares2)\n"
      ]
    },
    {
      "cell_type": "code",
      "execution_count": 11,
      "metadata": {
        "id": "MAvimjk6Fqlc",
        "outputId": "da3893e3-792d-4330-ab6c-f5a6ed35c6ce",
        "colab": {
          "base_uri": "https://localhost:8080/"
        }
      },
      "outputs": [
        {
          "output_type": "stream",
          "name": "stdout",
          "text": [
            "[2, 4, 6, 8, 10]\n",
            "[2, 4, 6, 8, 10]\n"
          ]
        }
      ],
      "source": [
        "numbers = [1, 2, 3, 4, 5, 6, 7, 8, 9, 10]\n",
        "even_numbers = [ ]\n",
        "\n",
        "# 짝수만 추출한 리스트\n",
        "for num in numbers:\n",
        "    if num % 2 == 0:\n",
        "        even_numbers.append(num)\n",
        "print(even_numbers)\n",
        "\n",
        "#컴프리헨션\n",
        "even_numbers2 = [i for i in numbers if i % 2 == 0]\n",
        "print(even_numbers2)\n"
      ]
    },
    {
      "cell_type": "code",
      "execution_count": 12,
      "metadata": {
        "id": "HGO8XTxBFqld",
        "outputId": "ebf3a99b-9f48-4737-a997-bc2ffc72e4e6",
        "colab": {
          "base_uri": "https://localhost:8080/"
        }
      },
      "outputs": [
        {
          "output_type": "stream",
          "name": "stdout",
          "text": [
            "[('사과', '주스'), ('사과', '잼'), ('사과', '통조림'), ('복숭아', '주스'), ('복숭아', '잼'), ('복숭아', '통조림'), ('바나나', '주스'), ('바나나', '잼'), ('바나나', '통조림')]\n",
            "[('사과', '주스'), ('사과', '잼'), ('사과', '통조림'), ('복숭아', '주스'), ('복숭아', '잼'), ('복숭아', '통조림'), ('바나나', '주스'), ('바나나', '잼'), ('바나나', '통조림')]\n"
          ]
        }
      ],
      "source": [
        "list1 = ['사과', '복숭아', '바나나']\n",
        "list2 = ['주스', '잼', '통조림']\n",
        "pairs = [ ]\n",
        "\n",
        "# 두 리스트에 포함되 모든 원소를 조합한 투플의 리스트 생성\n",
        "for fruit in list1:\n",
        "    for product in list2:\n",
        "        pairs.append((fruit, product))\n",
        "print(pairs)\n",
        "\n",
        "# 컴프리헨션\n",
        "pairs2 = [(fruit2, product2) for fruit2 in list1 for product2 in list2]\n",
        "print(pairs2)\n"
      ]
    },
    {
      "cell_type": "code",
      "execution_count": 16,
      "metadata": {
        "id": "K-BPhFTUFqle",
        "outputId": "05698faa-6de2-442e-c56b-bb1c5ed78710",
        "colab": {
          "base_uri": "https://localhost:8080/"
        }
      },
      "outputs": [
        {
          "output_type": "stream",
          "name": "stdout",
          "text": [
            "{0: 0, 1: 1, 2: 4, 3: 9, 4: 16}\n",
            "{0: 0, 1: 1, 2: 4, 3: 9, 4: 16}\n"
          ]
        }
      ],
      "source": [
        "squares = { }\n",
        "\n",
        "# 딕셔너리 생성\n",
        "for i in range(5):\n",
        "    squares[i] = i ** 2\n",
        "print(squares)\n",
        "\n",
        "# 컴프리헨션\n",
        "squares2 = {i : i ** 2 for i in range(5)}\n",
        "print(squares2)\n"
      ]
    },
    {
      "cell_type": "code",
      "execution_count": 21,
      "metadata": {
        "id": "UoTcC8-GFqlf",
        "outputId": "c67a4022-b8fb-48ae-e499-b7a528be90ff",
        "colab": {
          "base_uri": "https://localhost:8080/"
        }
      },
      "outputs": [
        {
          "output_type": "stream",
          "name": "stdout",
          "text": [
            "{'서울': 957, '부산': 339, '인천': 294, '대구': 242}\n",
            "{'부산': 339}\n"
          ]
        }
      ],
      "source": [
        "city_population = {\n",
        "    '서울': 957, '부산': 339, '인천': 294, '대구': 242, '광주': 145, '대전': 147,\n",
        "    '울산': 114, '세종': 36, '수원': 115, '창원': 103, '고양': 105, '용인': 108, '성남': 94\n",
        "}\n",
        "\n",
        "# 인구 200만명 이상의 도시 리스트\n",
        "large_cities = {c : p for c, p in city_population.items() if p >= 200}\n",
        "print(large_cities)\n",
        "\n",
        "# 인구 300만 이상 및 이름에 '산'이 포함된 도시 리스트\n",
        "large_short_name_cities = {c : p for c, p in city_population.items() if p>=300 and '산' in c}\n",
        "print(large_short_name_cities)"
      ]
    },
    {
      "cell_type": "markdown",
      "metadata": {
        "id": "njDOfr1LFqlf"
      },
      "source": [
        "## 2-3 문자열 형식화"
      ]
    },
    {
      "cell_type": "code",
      "execution_count": 49,
      "metadata": {
        "id": "fzO0h6KfFqlg",
        "outputId": "5cff37dd-207a-4b57-aefc-469af00cfc8e",
        "colab": {
          "base_uri": "https://localhost:8080/"
        }
      },
      "outputs": [
        {
          "output_type": "stream",
          "name": "stdout",
          "text": [
            "['이름: 홍길동, 나이: 30, 월급: 3500000원']\n",
            "['직원이름: 홍길동, 나이: 30, 세후 월급: 3150000 원']\n",
            "['직원이름: 홍길동, 나이: 30, 월급: 3,500,000 원, 실수령액: 3,150,000 원']\n"
          ]
        }
      ],
      "source": [
        "name = '홍길동'\n",
        "age = 30\n",
        "salary = 3500000\n",
        "tax_rate = 0.1\n",
        "\n",
        "# C 스타일 문자열 포매팅\n",
        "# 이름, 나이, 월급 출력\n",
        "basic_format = [\"이름: %s, 나이: %d, 월급: %d원\" % (name, age, salary)]\n",
        "print(basic_format)\n",
        "\n",
        "# 직원이름, 나이, 세후 월급 출력\n",
        "index_format = [\"직원이름: {}, 나이: {}, 세후 월급: {} 원\".format(name, age, int(salary*(1-tax_rate)))]\n",
        "print(index_format)\n",
        "\n",
        "# 직원이름, 나이, 월급, 세금, 실수령액 추력\n",
        "keyword_format = [\"직원이름: {emplotee}, 나이: {years}, 월급: {income:,} 원, 실수령액: {real:,} 원\".format(emplotee = name, years = age, income = salary, real = int(salary*(1-tax_rate)))]\n",
        "print(keyword_format)"
      ]
    },
    {
      "cell_type": "code",
      "source": [
        "name = '홍길동'\n",
        "age = 30\n",
        "salary = 3500000\n",
        "tax_rate = 0.1\n",
        "\n",
        "# str.format 문자열 포매팅\n",
        "# 이름, 나이, 월급 출력\n",
        "\n",
        "# 직원이름, 나이, 세후 월급 출력\n",
        "\n",
        "# 직원이름, 나이, 월급, 세금, 실수령액 추력\n",
        "\n",
        "\n",
        "print(basic_format)\n",
        "print(index_format)\n",
        "print(keyword_format)"
      ],
      "metadata": {
        "id": "cIvmmcQux_ph",
        "outputId": "0976c666-681d-47c6-d2a1-d580ff367566",
        "colab": {
          "base_uri": "https://localhost:8080/"
        }
      },
      "execution_count": 52,
      "outputs": [
        {
          "output_type": "stream",
          "name": "stdout",
          "text": [
            "['이름: 홍길동, 나이: 30, 월급: 3500000 원']\n",
            "['직원이름: 홍길동, 나이: 30, 세후 월급: 3150000 원']\n",
            "['직원이름: 홍길동, 나이: 30, 월급: 3,500,000 원, 실수령액: 3,150,000 원']\n"
          ]
        }
      ]
    },
    {
      "cell_type": "code",
      "source": [
        "name = '홍길동'\n",
        "age = 30\n",
        "salary = 3500000\n",
        "tax_rate = 0.1\n",
        "\n",
        "# f-문자열 포매팅\n",
        "# 이름, 나이, 월급 출력\n",
        "basic_format = [f\"이름: {name}, 나이: {age}, 월급: {salary:,} 원\"]\n",
        "print(basic_format)\n",
        "\n",
        "# 직원이름, 나이, 세후 월급 출력\n",
        "\n",
        "# 직원이름, 나이, 월급, 세금, 실수령액 추력\n",
        "\n",
        "\n",
        "print(index_format)\n",
        "print(keyword_format)"
      ],
      "metadata": {
        "id": "EIO3z-XQx_ce",
        "outputId": "50f0d06b-b2a9-422e-956f-6850b73abad1",
        "colab": {
          "base_uri": "https://localhost:8080/"
        }
      },
      "execution_count": 53,
      "outputs": [
        {
          "output_type": "stream",
          "name": "stdout",
          "text": [
            "['이름: 홍길동, 나이: 30, 월급: 3,500,000 원']\n",
            "['직원이름: 홍길동, 나이: 30, 세후 월급: 3150000 원']\n",
            "['직원이름: 홍길동, 나이: 30, 월급: 3,500,000 원, 실수령액: 3,150,000 원']\n"
          ]
        }
      ]
    },
    {
      "cell_type": "markdown",
      "metadata": {
        "id": "6lnhCleJFqlg"
      },
      "source": [
        "## 2-4 컨텍스트 관리"
      ]
    },
    {
      "cell_type": "code",
      "execution_count": 54,
      "metadata": {
        "id": "eFpmQp3QFqlh"
      },
      "outputs": [],
      "source": [
        "# 파일 오픈 & 클로즈\n",
        "with open('output.txt', 'w') as file:\n",
        "    file.write('Hello, world!\\n')"
      ]
    },
    {
      "cell_type": "code",
      "source": [
        "from google.colab import drive\n",
        "drive.mount('/content/drive')"
      ],
      "metadata": {
        "id": "fVWGjpKCkiwg",
        "outputId": "ec3a3e96-5095-4134-e1b4-60e81930beb5",
        "colab": {
          "base_uri": "https://localhost:8080/",
          "height": 318
        }
      },
      "execution_count": 34,
      "outputs": [
        {
          "output_type": "error",
          "ename": "MessageError",
          "evalue": "Error: credential propagation was unsuccessful",
          "traceback": [
            "\u001b[0;31m---------------------------------------------------------------------------\u001b[0m",
            "\u001b[0;31mMessageError\u001b[0m                              Traceback (most recent call last)",
            "\u001b[0;32m/tmp/ipython-input-1408506528.py\u001b[0m in \u001b[0;36m<cell line: 0>\u001b[0;34m()\u001b[0m\n\u001b[1;32m      1\u001b[0m \u001b[0;32mfrom\u001b[0m \u001b[0mgoogle\u001b[0m\u001b[0;34m.\u001b[0m\u001b[0mcolab\u001b[0m \u001b[0;32mimport\u001b[0m \u001b[0mdrive\u001b[0m\u001b[0;34m\u001b[0m\u001b[0;34m\u001b[0m\u001b[0m\n\u001b[0;32m----> 2\u001b[0;31m \u001b[0mdrive\u001b[0m\u001b[0;34m.\u001b[0m\u001b[0mmount\u001b[0m\u001b[0;34m(\u001b[0m\u001b[0;34m'/content/drive'\u001b[0m\u001b[0;34m)\u001b[0m\u001b[0;34m\u001b[0m\u001b[0;34m\u001b[0m\u001b[0m\n\u001b[0m",
            "\u001b[0;32m/usr/local/lib/python3.12/dist-packages/google/colab/drive.py\u001b[0m in \u001b[0;36mmount\u001b[0;34m(mountpoint, force_remount, timeout_ms, readonly)\u001b[0m\n\u001b[1;32m     95\u001b[0m \u001b[0;32mdef\u001b[0m \u001b[0mmount\u001b[0m\u001b[0;34m(\u001b[0m\u001b[0mmountpoint\u001b[0m\u001b[0;34m,\u001b[0m \u001b[0mforce_remount\u001b[0m\u001b[0;34m=\u001b[0m\u001b[0;32mFalse\u001b[0m\u001b[0;34m,\u001b[0m \u001b[0mtimeout_ms\u001b[0m\u001b[0;34m=\u001b[0m\u001b[0;36m120000\u001b[0m\u001b[0;34m,\u001b[0m \u001b[0mreadonly\u001b[0m\u001b[0;34m=\u001b[0m\u001b[0;32mFalse\u001b[0m\u001b[0;34m)\u001b[0m\u001b[0;34m:\u001b[0m\u001b[0;34m\u001b[0m\u001b[0;34m\u001b[0m\u001b[0m\n\u001b[1;32m     96\u001b[0m   \u001b[0;34m\"\"\"Mount your Google Drive at the specified mountpoint path.\"\"\"\u001b[0m\u001b[0;34m\u001b[0m\u001b[0;34m\u001b[0m\u001b[0m\n\u001b[0;32m---> 97\u001b[0;31m   return _mount(\n\u001b[0m\u001b[1;32m     98\u001b[0m       \u001b[0mmountpoint\u001b[0m\u001b[0;34m,\u001b[0m\u001b[0;34m\u001b[0m\u001b[0;34m\u001b[0m\u001b[0m\n\u001b[1;32m     99\u001b[0m       \u001b[0mforce_remount\u001b[0m\u001b[0;34m=\u001b[0m\u001b[0mforce_remount\u001b[0m\u001b[0;34m,\u001b[0m\u001b[0;34m\u001b[0m\u001b[0;34m\u001b[0m\u001b[0m\n",
            "\u001b[0;32m/usr/local/lib/python3.12/dist-packages/google/colab/drive.py\u001b[0m in \u001b[0;36m_mount\u001b[0;34m(mountpoint, force_remount, timeout_ms, ephemeral, readonly)\u001b[0m\n\u001b[1;32m    132\u001b[0m   )\n\u001b[1;32m    133\u001b[0m   \u001b[0;32mif\u001b[0m \u001b[0mephemeral\u001b[0m\u001b[0;34m:\u001b[0m\u001b[0;34m\u001b[0m\u001b[0;34m\u001b[0m\u001b[0m\n\u001b[0;32m--> 134\u001b[0;31m     _message.blocking_request(\n\u001b[0m\u001b[1;32m    135\u001b[0m         \u001b[0;34m'request_auth'\u001b[0m\u001b[0;34m,\u001b[0m\u001b[0;34m\u001b[0m\u001b[0;34m\u001b[0m\u001b[0m\n\u001b[1;32m    136\u001b[0m         \u001b[0mrequest\u001b[0m\u001b[0;34m=\u001b[0m\u001b[0;34m{\u001b[0m\u001b[0;34m'authType'\u001b[0m\u001b[0;34m:\u001b[0m \u001b[0;34m'dfs_ephemeral'\u001b[0m\u001b[0;34m}\u001b[0m\u001b[0;34m,\u001b[0m\u001b[0;34m\u001b[0m\u001b[0;34m\u001b[0m\u001b[0m\n",
            "\u001b[0;32m/usr/local/lib/python3.12/dist-packages/google/colab/_message.py\u001b[0m in \u001b[0;36mblocking_request\u001b[0;34m(request_type, request, timeout_sec, parent)\u001b[0m\n\u001b[1;32m    174\u001b[0m       \u001b[0mrequest_type\u001b[0m\u001b[0;34m,\u001b[0m \u001b[0mrequest\u001b[0m\u001b[0;34m,\u001b[0m \u001b[0mparent\u001b[0m\u001b[0;34m=\u001b[0m\u001b[0mparent\u001b[0m\u001b[0;34m,\u001b[0m \u001b[0mexpect_reply\u001b[0m\u001b[0;34m=\u001b[0m\u001b[0;32mTrue\u001b[0m\u001b[0;34m\u001b[0m\u001b[0;34m\u001b[0m\u001b[0m\n\u001b[1;32m    175\u001b[0m   )\n\u001b[0;32m--> 176\u001b[0;31m   \u001b[0;32mreturn\u001b[0m \u001b[0mread_reply_from_input\u001b[0m\u001b[0;34m(\u001b[0m\u001b[0mrequest_id\u001b[0m\u001b[0;34m,\u001b[0m \u001b[0mtimeout_sec\u001b[0m\u001b[0;34m)\u001b[0m\u001b[0;34m\u001b[0m\u001b[0;34m\u001b[0m\u001b[0m\n\u001b[0m",
            "\u001b[0;32m/usr/local/lib/python3.12/dist-packages/google/colab/_message.py\u001b[0m in \u001b[0;36mread_reply_from_input\u001b[0;34m(message_id, timeout_sec)\u001b[0m\n\u001b[1;32m    101\u001b[0m     ):\n\u001b[1;32m    102\u001b[0m       \u001b[0;32mif\u001b[0m \u001b[0;34m'error'\u001b[0m \u001b[0;32min\u001b[0m \u001b[0mreply\u001b[0m\u001b[0;34m:\u001b[0m\u001b[0;34m\u001b[0m\u001b[0;34m\u001b[0m\u001b[0m\n\u001b[0;32m--> 103\u001b[0;31m         \u001b[0;32mraise\u001b[0m \u001b[0mMessageError\u001b[0m\u001b[0;34m(\u001b[0m\u001b[0mreply\u001b[0m\u001b[0;34m[\u001b[0m\u001b[0;34m'error'\u001b[0m\u001b[0;34m]\u001b[0m\u001b[0;34m)\u001b[0m\u001b[0;34m\u001b[0m\u001b[0;34m\u001b[0m\u001b[0m\n\u001b[0m\u001b[1;32m    104\u001b[0m       \u001b[0;32mreturn\u001b[0m \u001b[0mreply\u001b[0m\u001b[0;34m.\u001b[0m\u001b[0mget\u001b[0m\u001b[0;34m(\u001b[0m\u001b[0;34m'data'\u001b[0m\u001b[0;34m,\u001b[0m \u001b[0;32mNone\u001b[0m\u001b[0;34m)\u001b[0m\u001b[0;34m\u001b[0m\u001b[0;34m\u001b[0m\u001b[0m\n\u001b[1;32m    105\u001b[0m \u001b[0;34m\u001b[0m\u001b[0m\n",
            "\u001b[0;31mMessageError\u001b[0m: Error: credential propagation was unsuccessful"
          ]
        }
      ]
    },
    {
      "cell_type": "code",
      "execution_count": null,
      "metadata": {
        "id": "D0aOLti0Fqlh"
      },
      "outputs": [],
      "source": [
        "# 복수개의 파일(읽기 & 쓰기) 관리\n",
        "\n"
      ]
    },
    {
      "cell_type": "code",
      "execution_count": 35,
      "metadata": {
        "id": "6SE0rrD5Fqli",
        "outputId": "e4aec507-f926-48be-9747-5abebcbf29af",
        "colab": {
          "base_uri": "https://localhost:8080/",
          "height": 110
        }
      },
      "outputs": [
        {
          "output_type": "error",
          "ename": "IndentationError",
          "evalue": "unexpected indent (ipython-input-1981888430.py, line 5)",
          "traceback": [
            "\u001b[0;36m  File \u001b[0;32m\"/tmp/ipython-input-1981888430.py\"\u001b[0;36m, line \u001b[0;32m5\u001b[0m\n\u001b[0;31m    data = response.read( ).decode('utf-8')\u001b[0m\n\u001b[0m    ^\u001b[0m\n\u001b[0;31mIndentationError\u001b[0m\u001b[0;31m:\u001b[0m unexpected indent\n"
          ]
        }
      ],
      "source": [
        "import urllib.request\n",
        "\n",
        "# URL 연결 관리\n",
        "('https://raw.githubusercontent.com/jaehwachung/Data-Analysis-with-Open-Source/refs/heads/main/Chapter%203/students.csv')\n",
        "    data = response.read( ).decode('utf-8')\n",
        "\n",
        "print(data)"
      ]
    }
  ],
  "metadata": {
    "colab": {
      "provenance": [],
      "include_colab_link": true
    },
    "kernelspec": {
      "display_name": "Python 3",
      "name": "python3"
    },
    "language_info": {
      "name": "python"
    }
  },
  "nbformat": 4,
  "nbformat_minor": 0
}