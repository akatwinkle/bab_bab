{
  "nbformat": 4,
  "nbformat_minor": 0,
  "metadata": {
    "colab": {
      "provenance": [],
      "name": "과제_수정.ipynb",
      "authorship_tag": "ABX9TyNOp5eEcgvdwcDRMPeyQvnx",
      "include_colab_link": true
    },
    "kernelspec": {
      "name": "python3",
      "display_name": "Python 3"
    },
    "language_info": {
      "name": "python"
    }
  },
  "cells": [
    {
      "cell_type": "markdown",
      "metadata": {
        "id": "view-in-github",
        "colab_type": "text"
      },
      "source": [
        "<a href=\"https://colab.research.google.com/github/akatwinkle/bab_bab/blob/main/%EA%B3%BC%EC%A0%9C_%EC%88%98%EC%A0%95.ipynb\" target=\"_parent\"><img src=\"https://colab.research.google.com/assets/colab-badge.svg\" alt=\"Open In Colab\"/></a>"
      ]
    },
    {
      "cell_type": "code",
      "execution_count": null,
      "metadata": {
        "colab": {
          "base_uri": "https://localhost:8080/",
          "height": 35
        },
        "id": "qSaezBVHeE76",
        "outputId": "4d24fd6c-dd03-4df2-ffde-37477a06200f"
      },
      "outputs": [
        {
          "output_type": "execute_result",
          "data": {
            "text/plain": [
              "'http://openapi.seoul.go.kr:8088/sample/json/energyUseDataSummaryInfo/1/5/2015/01'"
            ],
            "application/vnd.google.colaboratory.intrinsic+json": {
              "type": "string"
            }
          },
          "metadata": {},
          "execution_count": 4
        }
      ],
      "source": [
        "url = 'http://openapi.seoul.go.kr:8088/sample/json/energyUseDataSummaryInfo/1/5/2015/01'\n",
        "url\n"
      ]
    },
    {
      "cell_type": "code",
      "source": [
        "import requests\n",
        "\n",
        "url = 'https://data.seoul.go.kr/dataList/OA-15361/S/1/datasetView.do'\n",
        "api_key = '4a48554755796f6f36375856727974'\n",
        "\n",
        "params = {\n",
        "    'KEY' : api_key,\n",
        "    'TYPE' : 'json',\n",
        "    'SERVICE' : 'energyUseDataSummaryInfo',\n",
        "    'START_INDEX' : '1',\n",
        "    'END_INDEX' : '32'\n",
        "}\n",
        "\n",
        "def get_year_month():\n",
        "    year_month = []\n",
        "    for year in range(2015, 2024+1):\n",
        "        for month in range(1,12+1):\n",
        "            year_month.append(f'{year}{month:02d}')\n",
        "    return year_month\n",
        "\n",
        "resp = []\n",
        "\n",
        "try:\n",
        "    response = requests.get(url, params=params)\n",
        "    response.raise_for_status()\n",
        "    if response.headers.get(\"Content-Type\", \"\").startswith(\"application/json\"):\n",
        "        data = response.json()\n",
        "        print(\"API 호출 성공\")\n",
        "    else:\n",
        "        print(\"API 응답이 JSON이 아님:\", response.text[:100])\n",
        "except requests.exceptions.RequestException as error:\n",
        "    print(f\"API 호출 실패: {error}\")\n",
        "except ValueError as e:\n",
        "    print(f\"JSON 파싱 실패: {e}\")\n"
      ],
      "metadata": {
        "colab": {
          "base_uri": "https://localhost:8080/"
        },
        "id": "5pgjk5zIeRZP",
        "outputId": "17a035bb-1a66-4608-afc2-ab1fec8f79d3"
      },
      "execution_count": null,
      "outputs": [
        {
          "output_type": "stream",
          "name": "stdout",
          "text": [
            "API 응답이 JSON이 아님: \r\n",
            "\r\n",
            "\r\n",
            "\r\n",
            "\r\n",
            "\r\n",
            "\r\n",
            "\r\n",
            "\r\n",
            "\r\n",
            "\r\n",
            "\r\n",
            "\r\n",
            "   \r\n",
            "\r\n",
            "     \r\n",
            "\r\n",
            "\r\n",
            "\r\n",
            "\r\n",
            "     \r\n",
            "\r\n",
            "<!doctype html>\r\n",
            "<html lang=\"ko\">\r\n",
            "<head>\r\n",
            "\n"
          ]
        }
      ]
    },
    {
      "cell_type": "markdown",
      "source": [],
      "metadata": {
        "id": "RTKydIWletpd"
      }
    }
  ]
}